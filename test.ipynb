{
 "cells": [
  {
   "cell_type": "code",
   "execution_count": 133,
   "metadata": {},
   "outputs": [],
   "source": [
    "%matplotlib inline\n",
    "import numpy as np\n",
    "import scipy.stats\n",
    "import matplotlib\n",
    "import matplotlib.pyplot as plt\n",
    "import matplotlib.mlab as mlab\n",
    "import pandas as pd"
   ]
  },
  {
   "cell_type": "markdown",
   "metadata": {},
   "source": [
    "# Data"
   ]
  },
  {
   "cell_type": "code",
   "execution_count": 134,
   "metadata": {},
   "outputs": [],
   "source": [
    "training = pd.read_csv('Data/TrainingWiDS2021.csv', index_col=0)"
   ]
  },
  {
   "cell_type": "code",
   "execution_count": 135,
   "metadata": {},
   "outputs": [],
   "source": [
    "test = pd.read_csv('Data/UnlabeledWiDS2021.csv', index_col=0)"
   ]
  },
  {
   "cell_type": "code",
   "execution_count": 136,
   "metadata": {},
   "outputs": [],
   "source": [
    "train_is_positive = training['diabetes_mellitus']==1\n",
    "train_is_negative = ~train_is_positive"
   ]
  },
  {
   "cell_type": "markdown",
   "metadata": {},
   "source": [
    "# Analysis"
   ]
  },
  {
   "cell_type": "markdown",
   "metadata": {},
   "source": [
    "## Helpers"
   ]
  },
  {
   "cell_type": "code",
   "execution_count": 137,
   "metadata": {},
   "outputs": [],
   "source": [
    "def hist_by_diagnosis(feature):\n",
    "    x = training[feature]\n",
    "    plt.hist([x[train_is_positive], x[train_is_negative]])\n",
    "    plt.title(f'Distribution of Diagnosis by {feature}')\n",
    "    plt.legend([\"+\", \"-\"])"
   ]
  },
  {
   "cell_type": "markdown",
   "metadata": {},
   "source": [
    "## Age"
   ]
  },
  {
   "cell_type": "code",
   "execution_count": 138,
   "metadata": {},
   "outputs": [
    {
     "name": "stderr",
     "output_type": "stream",
     "text": [
      "C:\\Users\\Brian\\Anaconda3\\lib\\site-packages\\numpy\\lib\\histograms.py:754: RuntimeWarning: invalid value encountered in greater_equal\n",
      "  keep = (tmp_a >= first_edge)\n",
      "C:\\Users\\Brian\\Anaconda3\\lib\\site-packages\\numpy\\lib\\histograms.py:755: RuntimeWarning: invalid value encountered in less_equal\n",
      "  keep &= (tmp_a <= last_edge)\n"
     ]
    },
    {
     "data": {
      "image/png": "[encoded data removed]",
      "text/plain": [
       "<Figure size 432x288 with 1 Axes>"
      ]
     },
     "metadata": {
      "needs_background": "light"
     },
     "output_type": "display_data"
    }
   ],
   "source": [
    "hist_by_diagnosis('age')"
   ]
  },
  {
   "cell_type": "markdown",
   "metadata": {},
   "source": [
    "# Prediction"
   ]
  },
  {
   "cell_type": "markdown",
   "metadata": {},
   "source": [
    "## Helpers"
   ]
  },
  {
   "cell_type": "code",
   "execution_count": 139,
   "metadata": {},
   "outputs": [],
   "source": [
    "import sklearn.linear_model as lm\n",
    "import sklearn.neighbors as nb\n",
    "import sklearn.tree as tree\n",
    "import sklearn.preprocessing as pp"
   ]
  },
  {
   "cell_type": "code",
   "execution_count": 140,
   "metadata": {},
   "outputs": [],
   "source": [
    "def balance_training():\n",
    "    has_diabetes = training[train_is_positive].sample(25000)\n",
    "    no_diabetes = training[train_is_negative].sample(25000)\n",
    "    return pd.concat([has_diabetes,no_diabetes])"
   ]
  },
  {
   "cell_type": "code",
   "execution_count": 141,
   "metadata": {},
   "outputs": [],
   "source": [
    "def fillna(dtype, val):\n",
    "    selected_cols = [col for col in training.columns if training[col].dtype == dtype]\n",
    "    for col in selected_cols:\n",
    "        training[col] = training[col].fillna(val)\n",
    "        if col in test:\n",
    "            test[col] = test[col].fillna(val)"
   ]
  },
  {
   "cell_type": "code",
   "execution_count": 142,
   "metadata": {},
   "outputs": [],
   "source": [
    "def encode(column):\n",
    "    global training\n",
    "    global test\n",
    "    all_data = pd.concat([training[[column]], test[[column]]])\n",
    "    encoder = pp.OneHotEncoder()\n",
    "    encoder.fit(all_data)\n",
    "    columns = [column + \": \" + category for category in encoder.categories_[0]]\n",
    "    def apply(df):\n",
    "        encodings = encoder.transform(df[[column]]).toarray()\n",
    "        encodings_df = pd.DataFrame(encodings, columns=columns, index=df.index)\n",
    "        df = df.join(encodings_df)\n",
    "        return df.drop(columns=column)\n",
    "    training = apply(training)\n",
    "    test = apply(test)"
   ]
  },
  {
   "cell_type": "code",
   "execution_count": 143,
   "metadata": {},
   "outputs": [],
   "source": [
    "def execute(classifier, features):\n",
    "    classifier.fit(training[features], training['diabetes_mellitus'])\n",
    "    test['diabetes_mellitus']=classifier.predict(test[features])\n",
    "    write_solution(test)\n",
    "    return classifier"
   ]
  },
  {
   "cell_type": "code",
   "execution_count": 144,
   "metadata": {},
   "outputs": [],
   "source": [
    "def write_solution(solution):\n",
    "    results = test[['encounter_id','diabetes_mellitus']].set_index('encounter_id')\n",
    "    results.to_csv('Data/results.csv')"
   ]
  },
  {
   "cell_type": "markdown",
   "metadata": {},
   "source": [
    "## Data Preparation"
   ]
  },
  {
   "cell_type": "code",
   "execution_count": 145,
   "metadata": {},
   "outputs": [],
   "source": [
    "training = balance_training()"
   ]
  },
  {
   "cell_type": "code",
   "execution_count": 146,
   "metadata": {},
   "outputs": [],
   "source": [
    "training['bmi'] = pd.to_numeric(training['bmi'])\n",
    "test['bmi'] = pd.to_numeric(test['bmi'])"
   ]
  },
  {
   "cell_type": "code",
   "execution_count": 147,
   "metadata": {},
   "outputs": [],
   "source": [
    "training['age'] = training['age'].fillna(0)"
   ]
  },
  {
   "cell_type": "code",
   "execution_count": 148,
   "metadata": {},
   "outputs": [],
   "source": [
    "training['bmi'] = training['bmi'].fillna(0)\n",
    "test['bmi'] = test['bmi'].fillna(0)"
   ]
  },
  {
   "cell_type": "code",
   "execution_count": 149,
   "metadata": {},
   "outputs": [],
   "source": [
    "training['glucose_apache'] = training['glucose_apache'].fillna(0)\n",
    "test['glucose_apache'] = test['glucose_apache'].fillna(0)"
   ]
  },
  {
   "cell_type": "code",
   "execution_count": 150,
   "metadata": {},
   "outputs": [],
   "source": [
    "training['ethnicity'] = training['ethnicity'].fillna(\"Other/Unknown\")\n",
    "test['ethnicity'] = test['ethnicity'].fillna(\"Other/Unknown\")"
   ]
  },
  {
   "cell_type": "code",
   "execution_count": 151,
   "metadata": {},
   "outputs": [],
   "source": [
    "fillna('O', \"Other\")"
   ]
  },
  {
   "cell_type": "code",
   "execution_count": 152,
   "metadata": {},
   "outputs": [],
   "source": [
    "fillna('int64', 0)\n",
    "fillna('float64', 0)"
   ]
  },
  {
   "cell_type": "code",
   "execution_count": 153,
   "metadata": {},
   "outputs": [],
   "source": [
    "for col in test.columns:\n",
    "    if training[col].dtype == 'O':\n",
    "        encode(col)"
   ]
  },
  {
   "cell_type": "markdown",
   "metadata": {},
   "source": [
    "## Diagnosis = 0"
   ]
  },
  {
   "cell_type": "code",
   "execution_count": 154,
   "metadata": {},
   "outputs": [],
   "source": [
    "solution = pd.read_csv('Data/SolutionTemplateWiDS2021.csv', index_col=0)"
   ]
  },
  {
   "cell_type": "code",
   "execution_count": 155,
   "metadata": {},
   "outputs": [],
   "source": [
    "test['diabetes_mellitus'] = 0"
   ]
  },
  {
   "cell_type": "code",
   "execution_count": 156,
   "metadata": {},
   "outputs": [],
   "source": [
    "write_solution(test)"
   ]
  },
  {
   "cell_type": "markdown",
   "metadata": {},
   "source": [
    "## Diagnosis = elective_surgery"
   ]
  },
  {
   "cell_type": "code",
   "execution_count": 157,
   "metadata": {},
   "outputs": [],
   "source": [
    "test['diabetes_mellitus'] = test['elective_surgery']"
   ]
  },
  {
   "cell_type": "code",
   "execution_count": 158,
   "metadata": {},
   "outputs": [],
   "source": [
    "write_solution(test)"
   ]
  },
  {
   "cell_type": "markdown",
   "metadata": {},
   "source": [
    "## Age logistic regression"
   ]
  },
  {
   "cell_type": "code",
   "execution_count": 159,
   "metadata": {},
   "outputs": [
    {
     "name": "stderr",
     "output_type": "stream",
     "text": [
      "C:\\Users\\Brian\\Anaconda3\\lib\\site-packages\\sklearn\\linear_model\\logistic.py:433: FutureWarning: Default solver will be changed to 'lbfgs' in 0.22. Specify a solver to silence this warning.\n",
      "  FutureWarning)\n"
     ]
    }
   ],
   "source": [
    "clf = execute(lm.LogisticRegression(), ['age'])"
   ]
  },
  {
   "cell_type": "code",
   "execution_count": 160,
   "metadata": {},
   "outputs": [],
   "source": [
    "X_test = np.linspace(0,100,300)"
   ]
  },
  {
   "cell_type": "code",
   "execution_count": 161,
   "metadata": {},
   "outputs": [
    {
     "data": {
      "image/png": "[encoded data removed]",
      "text/plain": [
       "<Figure size 432x288 with 1 Axes>"
      ]
     },
     "metadata": {
      "needs_background": "light"
     },
     "output_type": "display_data"
    }
   ],
   "source": [
    "plt.plot(X_test, clf.predict(X_test[:,None]));"
   ]
  },
  {
   "cell_type": "markdown",
   "metadata": {},
   "source": [
    "## Age + BMI logistic regression"
   ]
  },
  {
   "cell_type": "code",
   "execution_count": 162,
   "metadata": {},
   "outputs": [
    {
     "name": "stderr",
     "output_type": "stream",
     "text": [
      "C:\\Users\\Brian\\Anaconda3\\lib\\site-packages\\sklearn\\linear_model\\logistic.py:433: FutureWarning: Default solver will be changed to 'lbfgs' in 0.22. Specify a solver to silence this warning.\n",
      "  FutureWarning)\n"
     ]
    }
   ],
   "source": [
    "execute(lm.LogisticRegression(), ['age', 'bmi']);"
   ]
  },
  {
   "cell_type": "markdown",
   "metadata": {},
   "source": [
    "## Age + BMI kNN classifier"
   ]
  },
  {
   "cell_type": "code",
   "execution_count": 163,
   "metadata": {},
   "outputs": [],
   "source": [
    "execute(nb.KNeighborsClassifier(), ['age','bmi']);"
   ]
  },
  {
   "cell_type": "markdown",
   "metadata": {},
   "source": [
    "## Age, BMI, Glucose Apache kNN"
   ]
  },
  {
   "cell_type": "code",
   "execution_count": 164,
   "metadata": {},
   "outputs": [],
   "source": [
    "execute(nb.KNeighborsClassifier(), ['age','bmi','glucose_apache']);"
   ]
  },
  {
   "cell_type": "markdown",
   "metadata": {},
   "source": [
    "## Age, BMI, Glucose Apache logistic regression"
   ]
  },
  {
   "cell_type": "code",
   "execution_count": 165,
   "metadata": {},
   "outputs": [
    {
     "name": "stderr",
     "output_type": "stream",
     "text": [
      "C:\\Users\\Brian\\Anaconda3\\lib\\site-packages\\sklearn\\linear_model\\logistic.py:433: FutureWarning: Default solver will be changed to 'lbfgs' in 0.22. Specify a solver to silence this warning.\n",
      "  FutureWarning)\n"
     ]
    }
   ],
   "source": [
    "execute(lm.LogisticRegression(), ['age','bmi','glucose_apache']);"
   ]
  },
  {
   "cell_type": "markdown",
   "metadata": {},
   "source": [
    "## Decision Tree"
   ]
  },
  {
   "cell_type": "code",
   "execution_count": 166,
   "metadata": {},
   "outputs": [],
   "source": [
    "execute(tree.DecisionTreeClassifier(), ['age','bmi','glucose_apache']);"
   ]
  },
  {
   "cell_type": "markdown",
   "metadata": {},
   "source": [
    "## Logistic Regression all features"
   ]
  },
  {
   "cell_type": "code",
   "execution_count": 167,
   "metadata": {},
   "outputs": [
    {
     "name": "stderr",
     "output_type": "stream",
     "text": [
      "C:\\Users\\Brian\\Anaconda3\\lib\\site-packages\\sklearn\\linear_model\\logistic.py:433: FutureWarning: Default solver will be changed to 'lbfgs' in 0.22. Specify a solver to silence this warning.\n",
      "  FutureWarning)\n",
      "C:\\Users\\Brian\\Anaconda3\\lib\\site-packages\\sklearn\\svm\\base.py:922: ConvergenceWarning: Liblinear failed to converge, increase the number of iterations.\n",
      "  \"the number of iterations.\", ConvergenceWarning)\n"
     ]
    }
   ],
   "source": [
    "clf = execute(lm.LogisticRegression(), test.columns);"
   ]
  },
  {
   "cell_type": "markdown",
   "metadata": {},
   "source": [
    "# Miscellaneous"
   ]
  },
  {
   "cell_type": "code",
   "execution_count": 168,
   "metadata": {},
   "outputs": [
    {
     "data": {
      "text/plain": [
       "Index(['encounter_id', 'hospital_id', 'age', 'bmi', 'elective_surgery',\n",
       "       'height', 'icu_id', 'pre_icu_los_days', 'readmission_status', 'weight',\n",
       "       ...\n",
       "       'icu_stay_type: transfer', 'icu_type: CCU-CTICU', 'icu_type: CSICU',\n",
       "       'icu_type: CTICU', 'icu_type: Cardiac ICU', 'icu_type: MICU',\n",
       "       'icu_type: Med-Surg ICU', 'icu_type: Neuro ICU', 'icu_type: SICU',\n",
       "       'diabetes_mellitus'],\n",
       "      dtype='object', length=215)"
      ]
     },
     "execution_count": 168,
     "metadata": {},
     "output_type": "execute_result"
    }
   ],
   "source": [
    "test.columns"
   ]
  },
  {
   "cell_type": "code",
   "execution_count": 169,
   "metadata": {},
   "outputs": [],
   "source": [
    "import sklearn.feature_selection as fs"
   ]
  },
  {
   "cell_type": "code",
   "execution_count": 170,
   "metadata": {},
   "outputs": [
    {
     "name": "stderr",
     "output_type": "stream",
     "text": [
      "C:\\Users\\Brian\\Anaconda3\\lib\\site-packages\\sklearn\\feature_selection\\univariate_selection.py:114: UserWarning: Features [8] are constant.\n",
      "  UserWarning)\n",
      "C:\\Users\\Brian\\Anaconda3\\lib\\site-packages\\sklearn\\feature_selection\\univariate_selection.py:115: RuntimeWarning: invalid value encountered in true_divide\n",
      "  f = msb / msw\n"
     ]
    }
   ],
   "source": [
    "training_chi = fs.SelectKBest(k=20).fit_transform(training.drop(columns=['diabetes_mellitus']), training['diabetes_mellitus'])"
   ]
  },
  {
   "cell_type": "code",
   "execution_count": 171,
   "metadata": {},
   "outputs": [
    {
     "name": "stderr",
     "output_type": "stream",
     "text": [
      "C:\\Users\\Brian\\Anaconda3\\lib\\site-packages\\sklearn\\feature_selection\\univariate_selection.py:114: UserWarning: Features [8] are constant.\n",
      "  UserWarning)\n",
      "C:\\Users\\Brian\\Anaconda3\\lib\\site-packages\\sklearn\\feature_selection\\univariate_selection.py:115: RuntimeWarning: invalid value encountered in true_divide\n",
      "  f = msb / msw\n"
     ]
    }
   ],
   "source": [
    "feature_selector = fs.SelectKBest(k=40)\n",
    "training_kbest = feature_selector.fit_transform(training.drop(columns=['diabetes_mellitus']), training['diabetes_mellitus'])"
   ]
  },
  {
   "cell_type": "code",
   "execution_count": 172,
   "metadata": {},
   "outputs": [
    {
     "data": {
      "text/plain": [
       "214"
      ]
     },
     "execution_count": 172,
     "metadata": {},
     "output_type": "execute_result"
    }
   ],
   "source": [
    "len(feature_selector.scores_)"
   ]
  },
  {
   "cell_type": "code",
   "execution_count": 173,
   "metadata": {},
   "outputs": [
    {
     "data": {
      "text/plain": [
       "214"
      ]
     },
     "execution_count": 173,
     "metadata": {},
     "output_type": "execute_result"
    }
   ],
   "source": [
    "training_x = training.drop(columns=['diabetes_mellitus'])\n",
    "len(training_x.columns)"
   ]
  },
  {
   "cell_type": "code",
   "execution_count": 174,
   "metadata": {},
   "outputs": [
    {
     "data": {
      "text/plain": [
       "[('d1_glucose_max', 11182.460901439825),\n",
       " ('h1_glucose_max', 3651.784536232141),\n",
       " ('h1_glucose_min', 3495.7867713126225),\n",
       " ('bmi', 1381.5958426774382),\n",
       " ('readmission_status', nan),\n",
       " ('glucose_apache', 8872.304708886166),\n",
       " ('d1_glucose_min', 1808.779206488496),\n",
       " ('d1_bun_max', 1404.264974176711),\n",
       " ('weight', 1274.8955741235877),\n",
       " ('d1_bun_min', 1221.218795848826),\n",
       " ('bun_apache', 1172.9329551503865),\n",
       " ('d1_creatinine_max', 1037.6542092258956),\n",
       " ('d1_creatinine_min', 996.934485176941),\n",
       " ('creatinine_apache', 886.5559864005222),\n",
       " ('age', 617.9718938884249),\n",
       " ('arf_apache', 593.1455038156734),\n",
       " ('d1_potassium_max', 488.76661484284597),\n",
       " ('h1_bun_min', 334.27675279875183),\n",
       " ('h1_bun_max', 333.73384202874394),\n",
       " ('d1_sysbp_max', 306.71228949048145)]"
      ]
     },
     "execution_count": 174,
     "metadata": {},
     "output_type": "execute_result"
    }
   ],
   "source": [
    "column_scores = [(training_x.columns[i],feature_selector.scores_[i]) for i in range(len(training_x.columns))]\n",
    "column_scores.sort(reverse=True, key = lambda x: x[1])\n",
    "column_scores[:20]"
   ]
  },
  {
   "cell_type": "code",
   "execution_count": 175,
   "metadata": {},
   "outputs": [],
   "source": [
    "training_y = training['diabetes_mellitus']"
   ]
  },
  {
   "cell_type": "code",
   "execution_count": 176,
   "metadata": {},
   "outputs": [],
   "source": [
    "training_x_kbest = training[training_x.columns[feature_selector.get_support()]]"
   ]
  },
  {
   "cell_type": "code",
   "execution_count": 177,
   "metadata": {},
   "outputs": [],
   "source": [
    "kbest_features = training_x.columns[feature_selector.get_support()].tolist()"
   ]
  },
  {
   "cell_type": "code",
   "execution_count": 183,
   "metadata": {},
   "outputs": [
    {
     "name": "stderr",
     "output_type": "stream",
     "text": [
      "C:\\Users\\Brian\\Anaconda3\\lib\\site-packages\\sklearn\\linear_model\\logistic.py:433: FutureWarning: Default solver will be changed to 'lbfgs' in 0.22. Specify a solver to silence this warning.\n",
      "  FutureWarning)\n"
     ]
    }
   ],
   "source": [
    "clf = execute(lm.LogisticRegression(), kbest_features)"
   ]
  },
  {
   "cell_type": "code",
   "execution_count": 181,
   "metadata": {},
   "outputs": [
    {
     "data": {
      "text/plain": [
       "[('d1_glucose_max', 11182.460901439825),\n",
       " ('h1_glucose_max', 3651.784536232141),\n",
       " ('h1_glucose_min', 3495.7867713126225),\n",
       " ('bmi', 1381.5958426774382),\n",
       " ('readmission_status', nan),\n",
       " ('glucose_apache', 8872.304708886166),\n",
       " ('d1_glucose_min', 1808.779206488496),\n",
       " ('d1_bun_max', 1404.264974176711),\n",
       " ('weight', 1274.8955741235877),\n",
       " ('d1_bun_min', 1221.218795848826),\n",
       " ('bun_apache', 1172.9329551503865),\n",
       " ('d1_creatinine_max', 1037.6542092258956),\n",
       " ('d1_creatinine_min', 996.934485176941),\n",
       " ('creatinine_apache', 886.5559864005222),\n",
       " ('age', 617.9718938884249),\n",
       " ('arf_apache', 593.1455038156734),\n",
       " ('d1_potassium_max', 488.76661484284597),\n",
       " ('h1_bun_min', 334.27675279875183),\n",
       " ('h1_bun_max', 333.73384202874394),\n",
       " ('d1_sysbp_max', 306.71228949048145),\n",
       " ('h1_creatinine_min', 275.4211953515131),\n",
       " ('h1_creatinine_max', 274.3312642152429),\n",
       " ('d1_potassium_min', 230.16499675851733),\n",
       " ('d1_calcium_max', 218.00390363314617),\n",
       " ('h1_potassium_max', 211.1795255875303),\n",
       " ('h1_potassium_min', 211.05245532373618),\n",
       " ('ethnicity: Caucasian', 204.33875653203785),\n",
       " ('d1_sysbp_noninvasive_max', 180.62155988354954),\n",
       " ('d1_calcium_min', 180.10080631533603),\n",
       " ('d1_diasbp_noninvasive_min', 171.1309760241439),\n",
       " ('h1_diasbp_min', 169.62376486400936),\n",
       " ('d1_diasbp_min', 164.6222498155134),\n",
       " ('h1_diasbp_noninvasive_min', 160.269539549009),\n",
       " ('h1_calcium_min', 152.0413906055377),\n",
       " ('h1_calcium_max', 150.11627348646618),\n",
       " ('icu_type: Neuro ICU', 138.8430022683839),\n",
       " ('h1_sodium_min', 122.71011908197913),\n",
       " ('h1_sodium_max', 122.55458649880664),\n",
       " ('ethnicity: African American', 114.92750232740639),\n",
       " ('d1_sodium_max', 107.09346851697694)]"
      ]
     },
     "execution_count": 181,
     "metadata": {},
     "output_type": "execute_result"
    }
   ],
   "source": [
    "column_scores = [(training_x.columns[i],feature_selector.scores_[i]) for i in range(len(training_x.columns))]\n",
    "column_scores.sort(reverse=True, key = lambda x: x[1])\n",
    "column_scores[:40]"
   ]
  },
  {
   "cell_type": "code",
   "execution_count": 180,
   "metadata": {},
   "outputs": [
    {
     "name": "stderr",
     "output_type": "stream",
     "text": [
      "C:\\Users\\Brian\\Anaconda3\\lib\\site-packages\\sklearn\\linear_model\\logistic.py:433: FutureWarning: Default solver will be changed to 'lbfgs' in 0.22. Specify a solver to silence this warning.\n",
      "  FutureWarning)\n"
     ]
    }
   ],
   "source": [
    "clf = execute(lm.LogisticRegression(), ['d1_glucose_max', 'bmi', 'd1_bun_max', 'd1_creatinine_max', 'age', 'arf_apache', 'd1_potassium_max', 'd1_sysbp_max'])"
   ]
  },
  {
   "cell_type": "code",
   "execution_count": 212,
   "metadata": {},
   "outputs": [
    {
     "data": {
      "image/png": "[encoded data removed]",
      "text/plain": [
       "<Figure size 432x288 with 1 Axes>"
      ]
     },
     "metadata": {
      "needs_background": "light"
     },
     "output_type": "display_data"
    }
   ],
   "source": [
    "scores_to_plot = column_scores[40:43]\n",
    "plt.plot([x[0] for x in scores_to_plot], [x[1] for x in scores_to_plot]);\n",
    "plt.xticks(rotation=90);"
   ]
  },
  {
   "cell_type": "markdown",
   "metadata": {},
   "source": [
    "TODO: random forests!"
   ]
  },
  {
   "cell_type": "code",
   "execution_count": null,
   "metadata": {},
   "outputs": [],
   "source": []
  }
 ],
 "metadata": {
  "kernelspec": {
   "display_name": "Python 3",
   "language": "python",
   "name": "python3"
  },
  "language_info": {
   "codemirror_mode": {
    "name": "ipython",
    "version": 3
   },
   "file_extension": ".py",
   "mimetype": "text/x-python",
   "name": "python",
   "nbconvert_exporter": "python",
   "pygments_lexer": "ipython3",
   "version": "3.7.1"
  }
 },
 "nbformat": 4,
 "nbformat_minor": 4
}
